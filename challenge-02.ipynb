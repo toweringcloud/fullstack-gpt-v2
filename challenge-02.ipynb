{
 "cells": [
  {
   "cell_type": "code",
   "execution_count": 1,
   "metadata": {},
   "outputs": [
    {
     "name": "stdout",
     "output_type": "stream",
     "text": [
      "\"매트릭스\" (The Matrix)는 1999년에 개봉한 사이버펑크 액션 영화로, 라나 워쇼스키와 리리 워쇼스키가 감독하고 각본을 맡았습니다. 이 영화는 현대 영화에서 혁신적인 비주얼 효과와 철학적 주제로 큰 영향을 미쳤습니다.\n",
      "\n",
      "### 주요 정보:\n",
      "- **감독(Director)**: 라나 워쇼스키, 리리 워쇼스키\n",
      "- **주연(Main Cast)**: 키아누 리브스(네오), 캐리 앤 모스(트리니티), 로렌스 피시번(모피어스), 휴고 위빙(스미스 요원)\n",
      "- **장르(Genre)**: 액션, SF\n",
      "- **제작비용(Budget)**: 약 63,000,000 달러\n",
      "- **수익(Profit)**: 약 463,517,383 달러\n",
      "- **상영시간(Running Time)**: 2시간 16분\n",
      "\n",
      "### 줄거리(Synopsis):\n",
      "영화는 주인공 네오(키아누 리브스)가 현실 세계가 사실은 인공지능에 의해 만들어진 가상 현실인 '매트릭스'라는 것을 알게 되면서 시작됩니다. 네오는 모피어스(로렌스 피시번)와 트리니티(캐리 앤 모스)와 함께 매트릭스의 진실을 밝혀내고 인류를 구하기 위한 싸움에 나섭니다. 이 과정에서 그는 자신의 운명과 정체성을 찾게 되며, 매트릭스의 지배자인 스미스 요원(휴고 위빙)과 대결하게 됩니다.\n",
      "\n",
      "### 영향:\n",
      "\"매트릭스\"는 비주얼 효과와 액션 장면에서 혁신적인 기술을 사용하여 많은 후속작과 다른 영화에 영향을 미쳤습니다. 특히 '총알 시간' 효과와 같은 장면은 영화 역사에서 상징적인 장면으로 남아 있습니다. 또한, 영화는 현실과 가상 현실, 자유 의지와 운명, 인간 존재의 의미와 같은 깊은 철학적 주제를 탐구합니다.\n",
      "\n",
      "이 영화는 이후 두 편의 속편인 \"매트릭스 Reloaded\"와 \"매트릭스 Revolutions\"가 제작되었고, 2021년에는 \"매트릭스 Resurrections\"가 개봉되었습니다."
     ]
    },
    {
     "data": {
      "text/plain": [
       "AIMessage(content='\"매트릭스\" (The Matrix)는 1999년에 개봉한 사이버펑크 액션 영화로, 라나 워쇼스키와 리리 워쇼스키가 감독하고 각본을 맡았습니다. 이 영화는 현대 영화에서 혁신적인 비주얼 효과와 철학적 주제로 큰 영향을 미쳤습니다.\\n\\n### 주요 정보:\\n- **감독(Director)**: 라나 워쇼스키, 리리 워쇼스키\\n- **주연(Main Cast)**: 키아누 리브스(네오), 캐리 앤 모스(트리니티), 로렌스 피시번(모피어스), 휴고 위빙(스미스 요원)\\n- **장르(Genre)**: 액션, SF\\n- **제작비용(Budget)**: 약 63,000,000 달러\\n- **수익(Profit)**: 약 463,517,383 달러\\n- **상영시간(Running Time)**: 2시간 16분\\n\\n### 줄거리(Synopsis):\\n영화는 주인공 네오(키아누 리브스)가 현실 세계가 사실은 인공지능에 의해 만들어진 가상 현실인 \\'매트릭스\\'라는 것을 알게 되면서 시작됩니다. 네오는 모피어스(로렌스 피시번)와 트리니티(캐리 앤 모스)와 함께 매트릭스의 진실을 밝혀내고 인류를 구하기 위한 싸움에 나섭니다. 이 과정에서 그는 자신의 운명과 정체성을 찾게 되며, 매트릭스의 지배자인 스미스 요원(휴고 위빙)과 대결하게 됩니다.\\n\\n### 영향:\\n\"매트릭스\"는 비주얼 효과와 액션 장면에서 혁신적인 기술을 사용하여 많은 후속작과 다른 영화에 영향을 미쳤습니다. 특히 \\'총알 시간\\' 효과와 같은 장면은 영화 역사에서 상징적인 장면으로 남아 있습니다. 또한, 영화는 현실과 가상 현실, 자유 의지와 운명, 인간 존재의 의미와 같은 깊은 철학적 주제를 탐구합니다.\\n\\n이 영화는 이후 두 편의 속편인 \"매트릭스 Reloaded\"와 \"매트릭스 Revolutions\"가 제작되었고, 2021년에는 \"매트릭스 Resurrections\"가 개봉되었습니다.', additional_kwargs={}, response_metadata={'finish_reason': 'stop', 'model_name': 'gpt-4o-mini-2024-07-18', 'system_fingerprint': 'fp_d02d531b47'}, id='run-d38373a9-f1e3-4c90-82fe-49aae6526cee-0')"
      ]
     },
     "execution_count": 1,
     "metadata": {},
     "output_type": "execute_result"
    }
   ],
   "source": [
    "from dotenv import dotenv_values\n",
    "from langchain.prompts.few_shot import FewShotChatMessagePromptTemplate\n",
    "from langchain.callbacks import StreamingStdOutCallbackHandler\n",
    "from langchain.prompts import ChatPromptTemplate\n",
    "from langchain_openai import ChatOpenAI\n",
    "\n",
    "config = dotenv_values(\".env\")\n",
    "\n",
    "chat = ChatOpenAI(\n",
    "    openai_api_key=config[\"OPENAI_API_KEY\"],\n",
    "    model=\"gpt-4o-mini\",\n",
    "    temperature=0.1,\n",
    "    streaming=True,\n",
    "    callbacks=[\n",
    "        StreamingStdOutCallbackHandler(),\n",
    "    ],\n",
    ")\n",
    "\n",
    "# reference movie site\n",
    "# https://www.themoviedb.org/movie/872585-oppenheimer\n",
    "# https://www.themoviedb.org/movie/76600-avatar-the-way-of-water\n",
    "examples = [\n",
    "    {\n",
    "        \"movie\": \"오펜하이머 (Oppenheimer)\",\n",
    "        \"answer\": \"\"\"\n",
    "            - 감독(Director): 크리스토퍼 놀란\n",
    "            - 주연(Main Cast): 킬리언 머피, 에밀리 블런트, 맷 데이먼, 로버트 다우니 주니어, 플로렌스 퓨\n",
    "            - 장르(Genre): 드라마, 역사\n",
    "            - 제작비용(Budget): $100,000,000.00\n",
    "            - 수익(Profit): $952,000,000.00\n",
    "            - 상영시간(Running Time): 3h 1m\n",
    "            - 줄거리(Synopsis): 마침내 내면의 평화… 냉면의 평화…가 찾아왔다고 믿는 용의 전사 ‘포’ 이젠 평화의 계곡의 영적 지도자가 되고, 자신을 대신할 후계자를 찾아야만 한다. “이제 용의 전사는 그만둬야 해요?” 용의 전사로의 모습이 익숙해지고 새로운 성장을 하기보다 지금 이대로가 좋은 ‘포’ 하지만 모든 쿵푸 마스터들의 능력을 그대로 복제하는 강력한 빌런 ‘카멜레온’이 나타나고 그녀를 막기 위해 정체를 알 수 없는 쿵푸 고수 ‘젠’과 함께 모험을 떠나게 되는데… 포는 가장 강력한 빌런과 자기 자신마저 뛰어넘고 진정한 변화를 할 수 있을까?\n",
    "        \"\"\",\n",
    "    },\n",
    "    {\n",
    "        \"movie\": \"아바타: 물의 길 (Avatar: The Way of Water)\",\n",
    "        \"answer\": \"\"\"\n",
    "            - 감독(Director): 제임스 카메론\n",
    "            - 주연(Main Cast): 샘 워싱턴, 조 샐다나, 시고니 위버, 스티븐 랭, 케이트 윈슬렛\n",
    "            - 장르(Genre): SF, 모험, 액션\n",
    "            - 제작비용(Budget): $460,000,000.00\n",
    "            - 수익(Profit): $2,320,250,281.00\n",
    "            - 상영시간(Running Time): 3h 12m\n",
    "            - 줄거리(Synopsis): 판도라 행성에서 제이크 설리와 네이티리가 이룬 가족이 겪게 되는 무자비한 위협과 살아남기 위해 떠나야 하는 긴 여정과 전투, 그리고 견뎌내야 할 상처에 대한 이야기를 그렸다. 살아남기 위해 설리 가족이 숲에서 바다로 터전을 옮기면서 겪게 되는 화합의 과정, 그리고 곳곳에서 도사리는 새로운 위협까지 역경 속에서 더 아름답게 펼쳐진다.\n",
    "        \"\"\",\n",
    "    },\n",
    "]\n",
    "example_prompt = ChatPromptTemplate.from_messages(\n",
    "    [\n",
    "        (\"human\", \"What do you know about {movie}?\"),\n",
    "        (\"ai\", \"{answer}\"),\n",
    "    ]\n",
    ")\n",
    "example_prompt = FewShotChatMessagePromptTemplate(\n",
    "    example_prompt=example_prompt,\n",
    "    examples=examples,\n",
    ")\n",
    "\n",
    "final_prompt = ChatPromptTemplate.from_messages(\n",
    "    [\n",
    "        (\n",
    "            \"system\",\n",
    "            \"You are a movie specialist, answer with reference to examples in korean.\",\n",
    "        ),\n",
    "        example_prompt,\n",
    "        (\"human\", \"What do you know about {movie}?\"),\n",
    "    ]\n",
    ")\n",
    "\n",
    "chain = final_prompt | chat\n",
    "chain.invoke({\"movie\": \"매트릭스 (The Matrix)\"})"
   ]
  }
 ],
 "metadata": {
  "kernelspec": {
   "display_name": "Python 3",
   "language": "python",
   "name": "python3"
  },
  "language_info": {
   "codemirror_mode": {
    "name": "ipython",
    "version": 3
   },
   "file_extension": ".py",
   "mimetype": "text/x-python",
   "name": "python",
   "nbconvert_exporter": "python",
   "pygments_lexer": "ipython3",
   "version": "3.12.7"
  }
 },
 "nbformat": 4,
 "nbformat_minor": 2
}
