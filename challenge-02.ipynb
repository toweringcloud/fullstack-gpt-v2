{
 "cells": [
  {
   "cell_type": "code",
   "execution_count": 4,
   "metadata": {},
   "outputs": [
    {
     "name": "stdout",
     "output_type": "stream",
     "text": [
      "\"매트릭스\" (The Matrix)는 1999년에 개봉한 사이버펑크 액션 영화로, 라나 워쇼스키와 리리 워쇼스키가 감독하고 각본을 맡았습니다. 이 영화는 현대 영화에서 혁신적인 비주얼 효과와 철학적 주제로 큰 영향을 미쳤습니다.\n",
      "\n",
      "### 주요 정보:\n",
      "- **감독(Director)**: 라나 워쇼스키, 리리 워쇼스키\n",
      "- **주연(Main Cast)**: 키아누 리브스(네오), 캐리 앤 모스(트리니티), 로렌스 피시번(모피어스), 휴고 위빙(스미스 요원)\n",
      "- **장르(Genre)**: 액션, SF\n",
      "- **제작비용(Budget)**: 약 $63,000,000\n",
      "- **수익(Profit)**: 약 $463,517,383\n",
      "- **상영시간(Running Time)**: 2h 16m\n",
      "\n",
      "### 줄거리(Synopsis):\n",
      "영화는 주인공 네오(키아누 리브스)가 현실과 가상 현실의 경계를 탐구하는 과정을 그립니다. 네오는 자신이 '매트릭스'라는 가상 현실에 갇혀 있다는 사실을 알게 되고, 모피어스(로렌스 피시번)와 트리니티(캐리 앤 모스)의 도움을 받아 진정한 현실을 찾기 위해 싸웁니다. 매트릭스는 인류가 기계에 의해 지배당하는 세계를 배경으로 하며, 인간의 자유 의지와 현실의 본질에 대한 깊은 질문을 던집니다.\n",
      "\n",
      "### 영향:\n",
      "\"매트릭스\"는 그 혁신적인 비주얼 효과, 특히 '불릿 타임' 기술로 유명하며, 이후 많은 영화와 미디어에 영향을 미쳤습니다. 또한, 철학적 주제와 함께 액션 장면이 조화를 이루어 많은 관객들에게 사랑받았습니다. 이 영화는 후속편인 \"매트릭스 Reloaded\", \"매트릭스 Revolutions\", 그리고 2021년에 개봉한 \"매트릭스 Resurrections\"로 이어졌습니다."
     ]
    },
    {
     "data": {
      "text/plain": [
       "AIMessage(content='\"매트릭스\" (The Matrix)는 1999년에 개봉한 사이버펑크 액션 영화로, 라나 워쇼스키와 리리 워쇼스키가 감독하고 각본을 맡았습니다. 이 영화는 현대 영화에서 혁신적인 비주얼 효과와 철학적 주제로 큰 영향을 미쳤습니다.\\n\\n### 주요 정보:\\n- **감독(Director)**: 라나 워쇼스키, 리리 워쇼스키\\n- **주연(Main Cast)**: 키아누 리브스(네오), 캐리 앤 모스(트리니티), 로렌스 피시번(모피어스), 휴고 위빙(스미스 요원)\\n- **장르(Genre)**: 액션, SF\\n- **제작비용(Budget)**: 약 $63,000,000\\n- **수익(Profit)**: 약 $463,517,383\\n- **상영시간(Running Time)**: 2h 16m\\n\\n### 줄거리(Synopsis):\\n영화는 주인공 네오(키아누 리브스)가 현실과 가상 현실의 경계를 탐구하는 과정을 그립니다. 네오는 자신이 \\'매트릭스\\'라는 가상 현실에 갇혀 있다는 사실을 알게 되고, 모피어스(로렌스 피시번)와 트리니티(캐리 앤 모스)의 도움을 받아 진정한 현실을 찾기 위해 싸웁니다. 매트릭스는 인류가 기계에 의해 지배당하는 세계를 배경으로 하며, 인간의 자유 의지와 현실의 본질에 대한 깊은 질문을 던집니다.\\n\\n### 영향:\\n\"매트릭스\"는 그 혁신적인 비주얼 효과, 특히 \\'불릿 타임\\' 기술로 유명하며, 이후 많은 영화와 미디어에 영향을 미쳤습니다. 또한, 철학적 주제와 함께 액션 장면이 조화를 이루어 많은 관객들에게 사랑받았습니다. 이 영화는 후속편인 \"매트릭스 Reloaded\", \"매트릭스 Revolutions\", 그리고 2021년에 개봉한 \"매트릭스 Resurrections\"로 이어졌습니다.', additional_kwargs={}, response_metadata={'finish_reason': 'stop', 'model_name': 'gpt-4o-mini-2024-07-18', 'system_fingerprint': 'fp_bba3c8e70b'}, id='run-eb276c6f-6484-4965-95ed-ad0f57f1e360-0')"
      ]
     },
     "execution_count": 4,
     "metadata": {},
     "output_type": "execute_result"
    }
   ],
   "source": [
    "from dotenv import dotenv_values\n",
    "from langchain.prompts.few_shot import FewShotChatMessagePromptTemplate\n",
    "from langchain.callbacks import StreamingStdOutCallbackHandler\n",
    "from langchain.prompts import ChatPromptTemplate\n",
    "from langchain_openai import ChatOpenAI\n",
    "\n",
    "config = dotenv_values(\".env\")\n",
    "\n",
    "chat = ChatOpenAI(\n",
    "    openai_api_key=config['OPENAI_API_KEY'],\n",
    "    model=\"gpt-4o-mini\",\n",
    "    temperature=0.1,\n",
    "    streaming=True,\n",
    "    callbacks=[\n",
    "        StreamingStdOutCallbackHandler(),\n",
    "    ],\n",
    ")\n",
    "\n",
    "# reference movie site\n",
    "# https://www.themoviedb.org/movie/872585-oppenheimer\n",
    "# https://www.themoviedb.org/movie/76600-avatar-the-way-of-water\n",
    "examples = [\n",
    "    {\n",
    "        \"movie\": \"오펜하이머 (Oppenhimer)\",\n",
    "        \"answer\": \"\"\"\n",
    "            - 감독(Director): 크리스토퍼 놀란\n",
    "            - 주연(Main Cast): 킬리언 머피, 에밀리 블런트, 맷 데이먼, 로버트 다우니 주니어, 플로렌스 퓨\n",
    "            - 장르(Genre): 드라마, 역사\n",
    "            - 제작비용(Budget): $100,000,000.00\n",
    "            - 수익(Profit): $952,000,000.00\n",
    "            - 상영시간(Running Time): 3h 1m\n",
    "            - 줄거리(Synopsis): 마침내 내면의 평화… 냉면의 평화…가 찾아왔다고 믿는 용의 전사 ‘포’ 이젠 평화의 계곡의 영적 지도자가 되고, 자신을 대신할 후계자를 찾아야만 한다. “이제 용의 전사는 그만둬야 해요?” 용의 전사로의 모습이 익숙해지고 새로운 성장을 하기보다 지금 이대로가 좋은 ‘포’ 하지만 모든 쿵푸 마스터들의 능력을 그대로 복제하는 강력한 빌런 ‘카멜레온’이 나타나고 그녀를 막기 위해 정체를 알 수 없는 쿵푸 고수 ‘젠’과 함께 모험을 떠나게 되는데… 포는 가장 강력한 빌런과 자기 자신마저 뛰어넘고 진정한 변화를 할 수 있을까?\n",
    "        \"\"\",\n",
    "    },\n",
    "    {\n",
    "        \"movie\": \"아바타: 물의 길 (Avatar: Way of Water)\",\n",
    "        \"answer\": \"\"\"\n",
    "            - 감독(Director): 제임스 카메론\n",
    "            - 주연(Main Cast): 샘 워싱턴, 조 샐다나, 시고니 위버, 스티븐 랭, 케이트 윈슬렛\n",
    "            - 장르(Genre): SF, 모험, 액션\n",
    "            - 제작비용(Budget): $460,000,000.00\n",
    "            - 수익(Profit): $2,320,250,281.00\n",
    "            - 상영시간(Running Time): 3h 12m\n",
    "            - 줄거리(Synopsis): 판도라 행성에서 제이크 설리와 네이티리가 이룬 가족이 겪게 되는 무자비한 위협과 살아남기 위해 떠나야 하는 긴 여정과 전투, 그리고 견뎌내야 할 상처에 대한 이야기를 그렸다. 살아남기 위해 설리 가족이 숲에서 바다로 터전을 옮기면서 겪게 되는 화합의 과정, 그리고 곳곳에서 도사리는 새로운 위협까지 역경 속에서 더 아름답게 펼쳐진다.\n",
    "        \"\"\",\n",
    "    },\n",
    "]\n",
    "\n",
    "example_prompt = ChatPromptTemplate.from_messages(\n",
    "    [\n",
    "        (\"human\", \"What do you know about {movie}?\"),\n",
    "        (\"ai\", \"{answer}\"),\n",
    "    ]\n",
    ")\n",
    "example_prompt = FewShotChatMessagePromptTemplate(\n",
    "    example_prompt=example_prompt,\n",
    "    examples=examples,\n",
    ")\n",
    "\n",
    "final_prompt = ChatPromptTemplate.from_messages(\n",
    "    [\n",
    "        (\"system\", \"You are a movie specialist, answer with reference to examples in korean.\"),\n",
    "        example_prompt,\n",
    "        (\"human\", \"What do you know about {movie}?\"),\n",
    "    ]\n",
    ")\n",
    "\n",
    "chain = final_prompt | chat\n",
    "chain.invoke({\"movie\": \"매트릭스 (The Matrix)\"})"
   ]
  },
  {
   "cell_type": "code",
   "execution_count": null,
   "metadata": {},
   "outputs": [],
   "source": []
  }
 ],
 "metadata": {
  "kernelspec": {
   "display_name": "Python 3",
   "language": "python",
   "name": "python3"
  },
  "language_info": {
   "codemirror_mode": {
    "name": "ipython",
    "version": 3
   },
   "file_extension": ".py",
   "mimetype": "text/x-python",
   "name": "python",
   "nbconvert_exporter": "python",
   "pygments_lexer": "ipython3",
   "version": "3.10.12"
  }
 },
 "nbformat": 4,
 "nbformat_minor": 2
}
