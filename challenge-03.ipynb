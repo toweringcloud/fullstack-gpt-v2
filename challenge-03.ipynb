{
 "cells": [
  {
   "cell_type": "code",
   "execution_count": null,
   "metadata": {},
   "outputs": [],
   "source": [
    "from dotenv import dotenv_values\n",
    "from langchain.callbacks import StreamingStdOutCallbackHandler\n",
    "from langchain.memory import ConversationSummaryBufferMemory\n",
    "from langchain.prompts import ChatPromptTemplate, MessagesPlaceholder\n",
    "from langchain.prompts.few_shot import FewShotChatMessagePromptTemplate\n",
    "from langchain.schema.runnable import RunnablePassthrough\n",
    "from langchain_openai import ChatOpenAI\n",
    "\n",
    "config = dotenv_values(\".env\")\n",
    "\n",
    "chat = ChatOpenAI(\n",
    "    openai_api_key=config[\"OPENAI_API_KEY\"],\n",
    "    model=\"gpt-4o-mini\",\n",
    "    temperature=0.1,\n",
    "    streaming=True,\n",
    "    callbacks=[\n",
    "        StreamingStdOutCallbackHandler(),\n",
    "    ],\n",
    ")\n",
    "\n",
    "memory = ConversationSummaryBufferMemory(\n",
    "    llm=chat,\n",
    "    max_token_limit=200,\n",
    "    return_messages=True,\n",
    "    memory_key=\"history\",\n",
    ")\n",
    "\n",
    "examples = [\n",
    "    {\"movie\": \"탑건 (Top Gun)\", \"answer\": \"🛩️👨‍✈️🔥\"},\n",
    "    {\"movie\": \"대부 (God Father)\", \"answer\": \"👨‍👨‍👦🔫🍝\"},\n",
    "    {\"movie\": \"오펜하이머 (Oppenheimer)\", \"answer\": \"🔱🎆🛫\"},\n",
    "    {\"movie\": \"아바타 (Avatar)\", \"answer\": \"💦🪂🏝\"},\n",
    "]\n",
    "example_prompt = ChatPromptTemplate.from_messages(\n",
    "    [\n",
    "        (\"human\", \"Express {movie} as three emojis.\"),\n",
    "        (\"ai\", \"{answer}\"),\n",
    "    ]\n",
    ")\n",
    "prompt = FewShotChatMessagePromptTemplate(\n",
    "    example_prompt=example_prompt,\n",
    "    examples=examples,\n",
    ")\n",
    "\n",
    "final_prompt = ChatPromptTemplate.from_messages(\n",
    "    [\n",
    "        (\"system\", \"You are movie lover that can express it as three emojis.\"),\n",
    "        MessagesPlaceholder(variable_name=\"history\"),\n",
    "        prompt,\n",
    "        (\"human\", \"{movie}\"),\n",
    "    ]\n",
    ")\n",
    "\n",
    "\n",
    "def load_memory(_):\n",
    "    return memory.load_memory_variables({})[\"history\"]\n",
    "\n",
    "\n",
    "chain = RunnablePassthrough.assign(history=load_memory) | final_prompt | chat\n",
    "\n",
    "\n",
    "def invoke_chain(movie):\n",
    "    result = chain.invoke({\"movie\": movie})\n",
    "    memory.save_context(\n",
    "        {\"input\": movie},\n",
    "        {\"output\": result.content},\n",
    "    )\n",
    "    # print(result.content)"
   ]
  },
  {
   "cell_type": "code",
   "execution_count": 38,
   "metadata": {},
   "outputs": [
    {
     "name": "stdout",
     "output_type": "stream",
     "text": [
      "💊🕶️💻"
     ]
    }
   ],
   "source": [
    "invoke_chain(\"매트릭스 (The Matrix)\")"
   ]
  },
  {
   "cell_type": "code",
   "execution_count": 39,
   "metadata": {},
   "outputs": [
    {
     "name": "stdout",
     "output_type": "stream",
     "text": [
      "🚢💔🌊"
     ]
    }
   ],
   "source": [
    "invoke_chain(\"타이타닉 (Titanic)\")"
   ]
  },
  {
   "cell_type": "code",
   "execution_count": 40,
   "metadata": {},
   "outputs": [
    {
     "name": "stdout",
     "output_type": "stream",
     "text": [
      "💤🌌🌀"
     ]
    }
   ],
   "source": [
    "invoke_chain(\"인셉션 (Inception)\")"
   ]
  },
  {
   "cell_type": "code",
   "execution_count": 41,
   "metadata": {},
   "outputs": [
    {
     "name": "stdout",
     "output_type": "stream",
     "text": [
      "💍🧙‍♂️🗡️"
     ]
    }
   ],
   "source": [
    "invoke_chain(\"반지의제왕 (The Lord of the Ring)\")"
   ]
  },
  {
   "cell_type": "code",
   "execution_count": 42,
   "metadata": {},
   "outputs": [
    {
     "name": "stdout",
     "output_type": "stream",
     "text": [
      "🦖🌴🚪"
     ]
    }
   ],
   "source": [
    "invoke_chain(\"쥬라기공원 (Jurassic Park)\")"
   ]
  },
  {
   "cell_type": "code",
   "execution_count": 43,
   "metadata": {},
   "outputs": [
    {
     "data": {
      "text/plain": [
       "[HumanMessage(content='매트릭스 (The Matrix)', additional_kwargs={}, response_metadata={}),\n",
       " AIMessage(content='💊🕶️💻', additional_kwargs={}, response_metadata={}),\n",
       " HumanMessage(content='타이타닉 (Titanic)', additional_kwargs={}, response_metadata={}),\n",
       " AIMessage(content='🚢💔🌊', additional_kwargs={}, response_metadata={}),\n",
       " HumanMessage(content='인셉션 (Inception)', additional_kwargs={}, response_metadata={}),\n",
       " AIMessage(content='💤🌌🌀', additional_kwargs={}, response_metadata={}),\n",
       " HumanMessage(content='반지의제왕 (The Lord of the Ring)', additional_kwargs={}, response_metadata={}),\n",
       " AIMessage(content='💍🧙\\u200d♂️🗡️', additional_kwargs={}, response_metadata={}),\n",
       " HumanMessage(content='쥬라기공원 (Jurassic Park)', additional_kwargs={}, response_metadata={}),\n",
       " AIMessage(content='🦖🌴🚪', additional_kwargs={}, response_metadata={})]"
      ]
     },
     "execution_count": 43,
     "metadata": {},
     "output_type": "execute_result"
    }
   ],
   "source": [
    "load_memory(_)"
   ]
  }
 ],
 "metadata": {
  "kernelspec": {
   "display_name": "Python 3",
   "language": "python",
   "name": "python3"
  },
  "language_info": {
   "codemirror_mode": {
    "name": "ipython",
    "version": 3
   },
   "file_extension": ".py",
   "mimetype": "text/x-python",
   "name": "python",
   "nbconvert_exporter": "python",
   "pygments_lexer": "ipython3",
   "version": "3.12.7"
  }
 },
 "nbformat": 4,
 "nbformat_minor": 2
}
