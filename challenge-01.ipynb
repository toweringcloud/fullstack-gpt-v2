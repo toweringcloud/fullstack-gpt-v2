{
 "cells": [
  {
   "cell_type": "code",
   "execution_count": 2,
   "metadata": {},
   "outputs": [
    {
     "name": "stdout",
     "output_type": "stream",
     "text": [
      "In the quiet corners of forgotten lands,\n",
      "Where time and neglect walk hand in hand,\n",
      "There lies a beauty in decay's gentle touch,\n",
      "A story told by rust, a language of the past.\n",
      "\n",
      "The iron weeps its silent tears,\n",
      "As nature's hand erodes its fears,\n",
      "Each flake a memory of days gone by,\n",
      "Whispering secrets to the endless sky.\n",
      "\n",
      "Rust blooms like a crimson flower,\n",
      "A reminder of man's fleeting power,\n",
      "It paints a picture of inevitable change,\n",
      "A dance of life and death, so strange.\n",
      "\n",
      "So let us embrace the rusted hue,\n",
      "And see the beauty in what once was new,\n",
      "For in decay, there lies a kind of art,\n",
      "A testament to the resilience of the human heart.This poem talks about finding beauty in decay and rust. It describes forgotten places where time and neglect have left their mark, creating a sense of beauty through the process of decay. The poet sees rust as a storyteller, whispering secrets of the past to the sky.\n",
      "\n",
      "The poem reflects on how nature and time work together to erode man-made objects, like iron, and turn them into something new. Rust is compared to a crimson flower, symbolizing the fleeting nature of human power and the inevitability of change.\n",
      "\n",
      "Ultimately, the poet encourages us to embrace the beauty in decay and see it as a form of art that reflects the resilience of the human spirit. The poem celebrates the cycle of life and death, highlighting the beauty that can be found in the passage of time."
     ]
    },
    {
     "data": {
      "text/plain": [
       "AIMessage(content='This poem talks about finding beauty in decay and rust. It describes forgotten places where time and neglect have left their mark, creating a sense of beauty through the process of decay. The poet sees rust as a storyteller, whispering secrets of the past to the sky.\\n\\nThe poem reflects on how nature and time work together to erode man-made objects, like iron, and turn them into something new. Rust is compared to a crimson flower, symbolizing the fleeting nature of human power and the inevitability of change.\\n\\nUltimately, the poet encourages us to embrace the beauty in decay and see it as a form of art that reflects the resilience of the human spirit. The poem celebrates the cycle of life and death, highlighting the beauty that can be found in the passage of time.', additional_kwargs={}, response_metadata={'finish_reason': 'stop', 'model_name': 'gpt-3.5-turbo-0125'}, id='run-a54b5eb2-3818-4345-b0d9-cca25e57d851-0')"
      ]
     },
     "execution_count": 2,
     "metadata": {},
     "output_type": "execute_result"
    }
   ],
   "source": [
    "from dotenv import dotenv_values\n",
    "from langchain.callbacks import StreamingStdOutCallbackHandler\n",
    "from langchain.prompts import ChatPromptTemplate\n",
    "from langchain_openai import ChatOpenAI\n",
    "\n",
    "config = dotenv_values(\".env\")\n",
    "\n",
    "chat = ChatOpenAI(\n",
    "    openai_api_key=config['OPENAI_API_KEY'],\n",
    "    model=\"gpt-3.5-turbo\",\n",
    "    temperature=0.1,\n",
    "    streaming=True,\n",
    "    callbacks=[\n",
    "        StreamingStdOutCallbackHandler(),\n",
    "    ],\n",
    ")\n",
    "\n",
    "poet_prompt = ChatPromptTemplate.from_messages(\n",
    "    [\n",
    "        (\"system\", \"You are a famous poet.\"),\n",
    "        (\"human\", \"I want to hear poetry about {programming_language}.\"),\n",
    "    ]\n",
    ")\n",
    "poet_chain = poet_prompt | chat\n",
    "\n",
    "docent_prompt = ChatPromptTemplate.from_messages(\n",
    "    [\n",
    "        (\n",
    "            \"system\",\n",
    "            \"You are great docent. Listen to the poem and explain it in an easy-to-understand manner.\",\n",
    "        ),\n",
    "        (\"human\", \"{poetry}\"),\n",
    "    ]\n",
    ")\n",
    "docent_chain = docent_prompt | chat\n",
    "\n",
    "final_chain = {\"poetry\": poet_chain} | docent_chain \n",
    "final_chain.invoke({\"programming_language\": \"rust\"})"
   ]
  },
  {
   "cell_type": "code",
   "execution_count": null,
   "metadata": {},
   "outputs": [],
   "source": []
  },
  {
   "cell_type": "code",
   "execution_count": null,
   "metadata": {},
   "outputs": [],
   "source": []
  }
 ],
 "metadata": {
  "kernelspec": {
   "display_name": "Python 3",
   "language": "python",
   "name": "python3"
  },
  "language_info": {
   "codemirror_mode": {
    "name": "ipython",
    "version": 3
   },
   "file_extension": ".py",
   "mimetype": "text/x-python",
   "name": "python",
   "nbconvert_exporter": "python",
   "pygments_lexer": "ipython3",
   "version": "3.10.12"
  }
 },
 "nbformat": 4,
 "nbformat_minor": 2
}
